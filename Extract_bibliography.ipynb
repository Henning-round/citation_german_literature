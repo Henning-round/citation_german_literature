{
 "cells": [
  {
   "cell_type": "code",
   "execution_count": 1,
   "id": "a2d6ba0b",
   "metadata": {},
   "outputs": [],
   "source": [
    "from manager import load_obj,save_obj\n",
    "from Homework import Homework\n",
    "from pprint import pprint\n",
    "import re\n",
    "from tqdm.notebook import tqdm\n",
    "from langdetect import detect\n"
   ]
  },
  {
   "cell_type": "code",
   "execution_count": 2,
   "id": "b17df03b",
   "metadata": {},
   "outputs": [],
   "source": [
    "##loading works from object folders\n",
    "def load_works():\n",
    "    works = []\n",
    "    for count in range(35):\n",
    "        works+= load_obj(f\"objects/homeworks{count}\")\n",
    "\n",
    "    for count in range(2):\n",
    "        works+= load_obj(f\"objects_grin/grins{count}\")\n",
    "    \n",
    "    return works"
   ]
  },
  {
   "cell_type": "code",
   "execution_count": 3,
   "id": "7ed6c676",
   "metadata": {},
   "outputs": [],
   "source": [
    "works = load_obj(\"works\")"
   ]
  },
  {
   "cell_type": "code",
   "execution_count": 4,
   "id": "c9aa48b8",
   "metadata": {},
   "outputs": [
    {
     "data": {
      "text/plain": [
       "17848"
      ]
     },
     "execution_count": 4,
     "metadata": {},
     "output_type": "execute_result"
    }
   ],
   "source": []
  },
  {
   "cell_type": "code",
   "execution_count": 10,
   "id": "96a75440",
   "metadata": {},
   "outputs": [
    {
     "data": {
      "application/vnd.jupyter.widget-view+json": {
       "model_id": "f02c29856b274a2ab398707ace7a2de0",
       "version_major": 2,
       "version_minor": 0
      },
      "text/plain": [
       "  0%|          | 0/17848 [00:00<?, ?it/s]"
      ]
     },
     "metadata": {},
     "output_type": "display_data"
    }
   ],
   "source": [
    "## detect the language\n",
    "\n",
    "for work in tqdm(works):\n",
    "    lang=\"\"\n",
    "    work.references = \"none\"\n",
    "    work.lang = \"none\"\n",
    "    if len(work.text_html) > 100 :\n",
    "        work.lang = detect(work.text_html)\n",
    "    \n",
    "    "
   ]
  },
  {
   "cell_type": "code",
   "execution_count": 11,
   "id": "4a114980",
   "metadata": {},
   "outputs": [],
   "source": [
    "save_obj(works, \"works\")\n"
   ]
  },
  {
   "cell_type": "code",
   "execution_count": 38,
   "id": "ffcf5e76",
   "metadata": {},
   "outputs": [],
   "source": [
    "\n",
    "\"\"\"find the bilbiography section in the text and cut out text after the bilbiograpgy section (e.g. appendix)\"\"\"\n",
    "\n",
    "def regex(text):\n",
    "    text = text.lower()\n",
    "    bibliography = [\"literaturverzeichnis\", \"literatur\", \"quellen\", \"quellenverzeichnis\", \"bibliographie\", \"bibliografie\", \"bibliography\" \"referenzen\", \"references\", \"literaturhinweise\", \"literaturliste\", \"quellen und literaturverzeichnis\",\"quellenverzeichnis und literatur\", \"quellen und literatur\", \"quellenangaben\", \"quellenangabe\", \"literaturangabe\", \"literaturangaben\", \"bilbliographien\", \"bilbiographien\", \"primärliteratur\", \"literarurliste\", \"literaturverzeihnis\", \"bibiografie\", \"bilbiographie\", \"verwendete literatur\", \"quellen- und literaturverzeichnis\"]\n",
    "    appendix = [\"anhang\", \"appendix\", \"datensatz\",\"zusammenfassungen\", \"anhänge\", \"anhangsverzeichnis\",\"anhangverzeichnis\",\"abbildungsverzeichnis\", \"rechtsquellenverzeichnis\"]\n",
    "    appendix_list=[\"anhangsverzeichnis\",\"anhangverzeichnis\",\"abbildungsverzeichnis\", \"rechtsquellenverzeichnis\"]\n",
    "    reg_word = re.compile(r'(\\n.{0,11}\\b(' + '|'.join(bibliography) + r')\\b.{0,8}\\n)') #find the bilbiography\n",
    "    reg_num = re.compile(r'(\\[\\.\\.\\.\\]\\n\\n\\[1\\]|\\n\\n1|\\n\\n\\(1\\)|\\n\\n\\[\\[1\\]\\])') #cut the footnotes\n",
    "    reg_appendix = re.compile(r'(\\n(?!.{0,8}((s)\\.|siehe)).{0,8}\\b(' + '|'.join(appendix) + r')\\b(?!.{0,3}((s)\\.|antwort|ebd\\.)).{0,60}\\n)') #filter out appendix\n",
    "    reg_appendix_list = re.compile(r'(\\n(?!.{0,8}((s)\\.|siehe)).{0,8}\\b(' + '|'.join(appendix_list) + r')\\b.{0,60}\\n)')\n",
    "    \n",
    "    \n",
    "    match_ref = [m.end() for m in re.finditer(reg_word,text)]\n",
    "    match_num = [m.start() for m in re.finditer(reg_num,text)]\n",
    "    match_appendix = [m.start() for m in re.finditer(reg_appendix,text)]\n",
    "    match_appendix_list = [m.start() for m in re.finditer(reg_appendix_list,text)]\n",
    "    \n",
    "    if match_appendix_list and match_appendix:  ### if anhangsverzeichnis befor anhang then delete anhang because anhangsverzeichnis already contains anhang \n",
    "    \n",
    "        if match_appendix_list[-1] < match_appendix[-1]:\n",
    "            match_appendix = match_appendix_list\n",
    "    \n",
    "    \n",
    "    \n",
    "    if match_ref and not ((len(text[match_ref[-1]:]) / len(text)) > 0.8):\n",
    "   \n",
    "        if match_num and (match_ref[-1] < match_num[-1]):\n",
    "         \n",
    "            if match_appendix and (match_ref[-1] < match_appendix[-1]):\n",
    "                return[match_ref[-1],match_appendix[-1]]\n",
    "            else:\n",
    "                return[match_ref[-1],match_num[-1]]\n",
    "        else:\n",
    "            if match_appendix and (match_ref[-1] < match_appendix[-1]):\n",
    "                return[match_ref[-1], match_appendix[-1]]\n",
    "            else:\n",
    "                return[match_ref[-1], len(text)]\n",
    "        \n",
    "    return []"
   ]
  },
  {
   "cell_type": "code",
   "execution_count": null,
   "id": "ece742d2",
   "metadata": {},
   "outputs": [],
   "source": []
  },
  {
   "cell_type": "code",
   "execution_count": 39,
   "id": "5962e4f9",
   "metadata": {},
   "outputs": [
    {
     "data": {
      "application/vnd.jupyter.widget-view+json": {
       "model_id": "ed3bc1ebc7284461914b47ef6e06da53",
       "version_major": 2,
       "version_minor": 0
      },
      "text/plain": [
       "  0%|          | 0/17848 [00:00<?, ?it/s]"
      ]
     },
     "metadata": {},
     "output_type": "display_data"
    }
   ],
   "source": [
    "#some manually removed works, which are too unformatted\n",
    "wrong_one=[\"https://www.hausarbeiten.de/document/97247\", \"https://www.grin.com/document/301185\",\"https://www.hausarbeiten.de/document/496359\",\"https://www.grin.com/document/335877\", \"https://www.grin.com/document/317499\", \"https://www.grin.com/document/370791\",\"https://www.hausarbeiten.de/document/107972\", \"https://www.hausarbeiten.de/document/496146\",\"https://www.hausarbeiten.de/document/109917\", \"https://www.hausarbeiten.de/document/106770\", \"https://www.hausarbeiten.de/document/98212\",\"https://www.grin.com/document/351592\"]\n",
    "\n",
    "for work in tqdm(works):\n",
    "    work.only_text = \"none\"\n",
    "    work.references = \"none\"\n",
    "    from_to = regex(work.text_html)\n",
    "    if from_to and work.lang == \"de\" and work.link not in wrong_one:\n",
    "        work.references = work.text_html[from_to[0]:from_to[1]]\n",
    "        \n",
    "        new_len = len(work.references)\n",
    "        index = work.text_html.find(work.references[:new_len])\n",
    "        if index == -1:\n",
    "            print(\"yes\")\n",
    "        work.only_text = work.text_html[:index]"
   ]
  },
  {
   "cell_type": "code",
   "execution_count": 40,
   "id": "dac26b34",
   "metadata": {},
   "outputs": [],
   "source": [
    "\"\"\"save works as pickle object\"\"\"\n",
    "save_obj = (works, \"works_references\")"
   ]
  },
  {
   "cell_type": "markdown",
   "id": "0d6f2d48",
   "metadata": {},
   "source": [
    "# Some more cleaning\n"
   ]
  },
  {
   "cell_type": "code",
   "execution_count": 28,
   "id": "572b3b1f",
   "metadata": {},
   "outputs": [],
   "source": [
    "works = load_obj(\"works_references\")"
   ]
  },
  {
   "cell_type": "code",
   "execution_count": 29,
   "id": "e15c0163",
   "metadata": {},
   "outputs": [
    {
     "name": "stdout",
     "output_type": "stream",
     "text": [
      "8398 22281343\n"
     ]
    }
   ],
   "source": [
    "wordcount = 0\n",
    "count = 0\n",
    "for work in works:\n",
    "    if work.references != \"none\":\n",
    "        wordcount += len(work.references)\n",
    "        count +=1\n",
    "print(count, wordcount)"
   ]
  },
  {
   "cell_type": "code",
   "execution_count": 30,
   "id": "ba215de9",
   "metadata": {},
   "outputs": [],
   "source": [
    "regex = re.compile(r\".+\\n\\s*(\\[1\\]).*\")\n",
    "for work in works:\n",
    "    if work.references != \"none\":\n",
    "        match = [m.start() for m in re.finditer(regex, work.references)]\n",
    "        if match:\n",
    "            work.references = work.references[0:match[0]]"
   ]
  },
  {
   "cell_type": "code",
   "execution_count": 31,
   "id": "704fbfa1",
   "metadata": {},
   "outputs": [],
   "source": [
    "#some special cleaning for works from the germanistik field\n",
    "incomplete = [\"https://www.hausarbeiten.de/document/1059953\", \"https://www.hausarbeiten.de/document/201597\", \"https://www.hausarbeiten.de/document/110647\", \"https://www.hausarbeiten.de/document/110399\", \"https://www.hausarbeiten.de/document/50662\", \"https://www.hausarbeiten.de/document/108475\", \"https://www.hausarbeiten.de/document/105886\",\"https://www.hausarbeiten.de/document/104668\", \"https://www.hausarbeiten.de/document/104463\", \"https://www.hausarbeiten.de/document/101532\",\"https://www.hausarbeiten.de/document/98711\", \"https://www.hausarbeiten.de/document/98543\", \"https://www.hausarbeiten.de/document/99099\", \"https://www.hausarbeiten.de/document/96497\", \"https://www.hausarbeiten.de/document/95491\", \"https://www.hausarbeiten.de/document/95585\", \"https://www.hausarbeiten.de/document/95733\", \"https://www.hausarbeiten.de/document/105583\", \"https://www.hausarbeiten.de/document/110399\", \"https://www.hausarbeiten.de/document/12074\", \"https://www.hausarbeiten.de/document/105639\", \"https://www.hausarbeiten.de/document/101894\", \"https://www.hausarbeiten.de/document/100719\", \"https://www.hausarbeiten.de/document/99407\", \"https://www.hausarbeiten.de/document/94774\", \"https://www.hausarbeiten.de/document/96690\", \"https://www.hausarbeiten.de/document/146191\"]\n",
    "words = [\"fußnoten\", \"fussnoten\", \"anhang\", r\"1\\. einleitung\",  r\"1\\.1\\. einleitung\", r\"roman\\- und realismustheorie nach der revolution von 1848\", r\"darstellungen\\:\", r\"\\[\\.\\.\\.\\]\", \"staub ist eins der elemente\", \"die unabhängigkeitserklärung\", r\"über dieses dokument \\.\\.\\.\"]\n",
    "regex = re.compile(r\".+\\n(\"+ '|'.join(words) + r\")\\n\")\n",
    "for work in works:\n",
    "    if work.link in incomplete or work.references.lower() == \"abbildung in dieser leseprobe nicht enthalten\\n\":\n",
    "        work.references = \"none\"\n",
    "    if work.references != \"none\":\n",
    "        match = [m.start() for m in re.finditer(regex, work.references.lower())]\n",
    "        if match:\n",
    "            work.references = work.references[0:match[0]]\n"
   ]
  },
  {
   "cell_type": "code",
   "execution_count": 32,
   "id": "94750200",
   "metadata": {},
   "outputs": [],
   "source": [
    "for work in works:\n",
    "    if work.references != \"none\":\n",
    "        reg = re.compile(r\"(^(?!(\\d{4}))[^a-zA-Z]*|([pP]rimärliteratur|[sS]ekundärliteratur).{0,1}\\n)\", flags=re.ASCII | re.MULTILINE)\n",
    "        work.references = re.sub(reg, \"\", work.references)\n",
    "        "
   ]
  },
  {
   "cell_type": "code",
   "execution_count": null,
   "id": "9c22f8b0",
   "metadata": {},
   "outputs": [],
   "source": [
    "save_obj = (works, \"works_references\")"
   ]
  },
  {
   "cell_type": "code",
   "execution_count": 15,
   "id": "5511d969",
   "metadata": {},
   "outputs": [
    {
     "name": "stdout",
     "output_type": "stream",
     "text": [
      "8398 22281343\n"
     ]
    }
   ],
   "source": [
    "wordcount = 0\n",
    "count = 0\n",
    "for work in works:\n",
    "    if work.references != \"none\":\n",
    "        wordcount += len(work.references)\n",
    "        count +=1\n",
    "print(count, wordcount)"
   ]
  }
 ],
 "metadata": {
  "kernelspec": {
   "display_name": "Python 3 (ipykernel)",
   "language": "python",
   "name": "python3"
  },
  "language_info": {
   "codemirror_mode": {
    "name": "ipython",
    "version": 3
   },
   "file_extension": ".py",
   "mimetype": "text/x-python",
   "name": "python",
   "nbconvert_exporter": "python",
   "pygments_lexer": "ipython3",
   "version": "3.9.12"
  }
 },
 "nbformat": 4,
 "nbformat_minor": 5
}
