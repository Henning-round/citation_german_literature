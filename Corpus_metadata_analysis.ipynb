{
 "cells": [
  {
   "cell_type": "code",
   "execution_count": 1,
   "id": "14b40266",
   "metadata": {},
   "outputs": [],
   "source": [
    "import csv\n",
    "import pickle\n",
    "from pprint import pprint\n",
    "from Homework import Homework\n",
    "#from tqdm.notebook import tqdm\n",
    "import nltk\n",
    "import string\n",
    "import re\n",
    "from manager import load_obj"
   ]
  },
  {
   "cell_type": "code",
   "execution_count": 15,
   "id": "d84f304e",
   "metadata": {},
   "outputs": [],
   "source": [
    "works = load_obj(\"works_references\")"
   ]
  },
  {
   "cell_type": "code",
   "execution_count": 18,
   "id": "72439137",
   "metadata": {},
   "outputs": [],
   "source": [
    "def summarize_field(field):\n",
    "    \"\"\"function to rename some subjects\"\"\"\n",
    "    history = [\"geschichte\", \"gesch.\"]\n",
    "    social = [\"soziale\"]\n",
    "    health = [\"gesundheit\"]\n",
    "    learner = [\"ada\"]\n",
    "\n",
    "    if field.lower() in history:\n",
    "            field = \"Geschichte\"\n",
    "    elif field.lower() in social:\n",
    "            field = \"Soziale Arbeit\"\n",
    "    elif field.lower() in health:\n",
    "            field = \"Pflege- und Gesundheitswissenschaften\"\n",
    "    elif field.lower() in learner:\n",
    "            field = \"Ausbildung der Ausbilder / Ada\"\n",
    "    \n",
    "    return field\n",
    "        "
   ]
  },
  {
   "cell_type": "code",
   "execution_count": 19,
   "id": "a5a388f5",
   "metadata": {},
   "outputs": [],
   "source": [
    "\n",
    "def check_references(works):\n",
    "    \"\"\"check if a work has a bibliography section\"\"\"\n",
    "    subj={}\n",
    "    \n",
    "    for work in works:\n",
    "        first = work.subject.split(\" \")[0]\n",
    "        \n",
    "        first = summarize_field(first)\n",
    "        if first == \"none\":\n",
    "            print(work.link)\n",
    "        if first not in subj:\n",
    "            if work.references != \"none\": \n",
    "                subj[first] = [1,1]\n",
    "            else:\n",
    "                subj[first] = [1,0]\n",
    "        else:\n",
    "            if work.references != \"none\": \n",
    "                subj[first] = [subj[first][0]+1,subj[first][1]+1]\n",
    "            else:\n",
    "                subj[first] = [subj[first][0]+1,subj[first][1]+0]\n",
    "        \n",
    "    subj = sorted(subj.items(), key=lambda x: x[1][1], reverse = True)\n",
    "    c_a = 0\n",
    "    c_l = 0\n",
    "    \n",
    "    for val in subj:\n",
    "        c_a += val[1][0]\n",
    "        c_l += val[1][1]\n",
    "\n",
    "    print(c_a)\n",
    "    print(c_l)\n",
    "  \n",
    "    return subj\n",
    "\n",
    "        "
   ]
  },
  {
   "cell_type": "code",
   "execution_count": 20,
   "id": "d1b3ff3e",
   "metadata": {},
   "outputs": [
    {
     "name": "stdout",
     "output_type": "stream",
     "text": [
      "https://www.hausarbeiten.de/document/337772\n",
      "https://www.grin.com/document/535110\n",
      "17848\n",
      "8398\n",
      "[('Politik', [1465, 911]),\n",
      " ('Geschichte', [1711, 856]),\n",
      " ('Didaktik', [2225, 736]),\n",
      " ('BWL', [1259, 605]),\n",
      " ('Germanistik', [1028, 603]),\n",
      " ('Soziologie', [860, 522]),\n",
      " ('Pädagogik', [775, 455]),\n",
      " ('Medien', [569, 321]),\n",
      " ('Psychologie', [575, 308]),\n",
      " ('Geowissenschaften', [616, 268]),\n",
      " ('Philosophie', [548, 262]),\n",
      " ('Soziale Arbeit', [390, 235]),\n",
      " ('Theologie', [505, 206]),\n",
      " ('Pflege- und Gesundheitswissenschaften', [401, 198]),\n",
      " ('Biologie', [505, 162]),\n",
      " ('Informatik', [434, 156]),\n",
      " ('VWL', [255, 143]),\n",
      " ('Romanistik', [215, 129]),\n",
      " ('Kunst', [310, 125]),\n",
      " ('Jura', [421, 96]),\n",
      " ('Musik', [233, 94]),\n",
      " ('Führung', [149, 83]),\n",
      " ('Biographien', [183, 60]),\n",
      " ('Kulturwissenschaften', [99, 56]),\n",
      " ('Ethnologie', [82, 56]),\n",
      " ('Filmwissenschaft', [90, 54]),\n",
      " ('Anglistik', [91, 52]),\n",
      " ('Amerikanistik', [92, 51]),\n",
      " ('Physik', [226, 50]),\n",
      " ('Orientalistik', [86, 48]),\n",
      " ('Chemie', [173, 46]),\n",
      " ('Theaterwissenschaft,', [77, 42]),\n",
      " ('Ingenieurwissenschaften', [195, 35]),\n",
      " ('Medizin', [79, 35]),\n",
      " ('Ethik', [71, 27]),\n",
      " ('Mathematik', [121, 24]),\n",
      " ('Organisation', [45, 22]),\n",
      " ('Umweltwissenschaften', [49, 21]),\n",
      " ('Russistik', [28, 19]),\n",
      " ('Literaturwissenschaft', [39, 18]),\n",
      " ('Latein', [83, 18]),\n",
      " ('Technik', [56, 18]),\n",
      " ('Tourismus', [37, 17]),\n",
      " ('Agrarwissenschaften', [34, 14]),\n",
      " ('Sprachwissenschaft', [23, 13]),\n",
      " ('Klassische', [25, 13]),\n",
      " ('Archäologie', [22, 13]),\n",
      " ('Geschlechterstudien', [21, 12]),\n",
      " ('Rhetorik', [16, 9]),\n",
      " ('Afrikawissenschaften', [9, 8]),\n",
      " ('Sozialwissenschaften', [21, 8]),\n",
      " ('Astronomie', [31, 8]),\n",
      " ('Elektrotechnik', [45, 6]),\n",
      " ('Design', [21, 6]),\n",
      " ('Bibliothekswissenschaften,', [17, 5]),\n",
      " ('Textil,', [10, 5]),\n",
      " ('Skandinavistik', [8, 4]),\n",
      " ('Asienkunde,', [6, 3]),\n",
      " ('Buchwissenschaft', [4, 3]),\n",
      " ('Landschaftsnutzung', [3, 3]),\n",
      " ('Ausbildung der Ausbilder / Ada', [19, 3]),\n",
      " ('Raumwissenschaften,', [4, 2]),\n",
      " ('Griechisch', [4, 2]),\n",
      " ('Landschaftsarchitektur,', [3, 2]),\n",
      " ('Südasienkunde,', [5, 2]),\n",
      " ('Verkehrswissenschaft', [2, 1]),\n",
      " ('Dolmetschen', [4, 1]),\n",
      " ('Lebensmitteltechnologie', [2, 1]),\n",
      " ('Energiewissenschaften', [4, 1]),\n",
      " ('Judaistik', [1, 1]),\n",
      " ('Ägyptologie', [2, 1]),\n",
      " ('Indologie', [2, 1]),\n",
      " ('Pharmazie', [2, 1]),\n",
      " ('Museumswissenschaft,', [1, 1]),\n",
      " ('Musikwissenschaft', [1, 1]),\n",
      " ('Arbeitswissenschaft', [2, 1]),\n",
      " ('none', [2, 0]),\n",
      " ('Forstwirtschaft', [8, 0]),\n",
      " ('Ratgeber', [3, 0]),\n",
      " ('Tiermedizin', [1, 0]),\n",
      " ('Tontechnik', [3, 0]),\n",
      " ('Werkstoffkunde', [2, 0]),\n",
      " ('Vorlagen,', [2, 0]),\n",
      " ('Dänisch', [2, 0])]\n"
     ]
    }
   ],
   "source": [
    "pprint(check_references(works))\n"
   ]
  },
  {
   "cell_type": "code",
   "execution_count": 15,
   "id": "2853b819",
   "metadata": {},
   "outputs": [
    {
     "name": "stdout",
     "output_type": "stream",
     "text": [
      "{'russistik': 19, 'sprachwissenschaft': 13, 'literaturwissenschaft': 18, 'afrikawissenschaften': 8, 'orientalistik': 48, 'romanistik': 129, 'kulturwissenschaften': 56, 'latein': 18, 'griechisch': 2, 'judaistik': 1, 'skandinavistik': 4, 'amerikanistik': 51, 'klassische': 13, 'anglistik': 52}\n",
      "432\n"
     ]
    }
   ],
   "source": [
    "languages=[\"romanistik\", \"kulturwissenschaften\",\"amerikanistik\", \"anglistik\", \"orientalistik\",\"literaturwissenschaft\",\"russistik\",\"sprachwissenschaft\",\"afrikawissenschaften\",\"skandinavistik\", \"klassische\", \"latein\", \"griechisch\", \"dänisch\", \"judaistik\"]\n",
    "distribution = {}\n",
    "for work in works:\n",
    "    name = work.subject.split(\" \")[0].lower()\n",
    "    if work.references != \"none\":\n",
    "        if name in languages:\n",
    "            if name not in distribution:\n",
    "                distribution[name] = 1\n",
    "            else:\n",
    "                distribution[name] += 1\n",
    "print(distribution)\n",
    "count = 0\n",
    "for k,v in distribution.items():\n",
    "    count += v\n",
    "print(count)"
   ]
  },
  {
   "cell_type": "code",
   "execution_count": 8,
   "id": "bf75f22a",
   "metadata": {},
   "outputs": [],
   "source": [
    "test_none = {\"author\": 0, \"category\" : 0, \"grade\": 0, \"institution\" : 0, \"isbn\" :0, \"link\":0, \"pages\" :0, \"price\":0, \"subject\":0, \"tags\":0, \"text_html\":0, \"title\":0, \"references\":0, \"pages_displayed\":0}"
   ]
  },
  {
   "cell_type": "code",
   "execution_count": 9,
   "id": "74f5c9a0",
   "metadata": {},
   "outputs": [],
   "source": [
    "works = load_obj(\"works_references\")"
   ]
  },
  {
   "cell_type": "code",
   "execution_count": 10,
   "id": "9de4e144",
   "metadata": {},
   "outputs": [],
   "source": [
    "\"\"\"check how much metadata is missing in the corpus\"\"\"\n",
    "for work in works:\n",
    "    \n",
    "    if work.author == \"anonymous\":\n",
    "        test_none[\"author\"] +=1\n",
    "   \n",
    "    if work.category == \"none\":\n",
    "        test_none[\"category\"] +=1 \n",
    "   \n",
    "    if work.grade == \"none\":\n",
    "        test_none[\"grade\"] +=1 \n",
    "    \n",
    "    if work.institution == \"none\":\n",
    "        test_none[\"institution\"] +=1 \n",
    "    \n",
    "    if work.isbn == \"none\":\n",
    "        test_none[\"isbn\"] +=1 \n",
    "    \n",
    "    if work.link == \"none\":\n",
    "        test_none[\"link\"] +=1 \n",
    "    \n",
    "    if work.pages == \"none\":\n",
    "        test_none[\"pages\"] +=1 \n",
    "    \n",
    "    if work.price == \"none\":\n",
    "        test_none[\"price\"] +=1 \n",
    "    \n",
    "    \n",
    "    if work.subject == \"none\":\n",
    "        test_none[\"subject\"] +=1 \n",
    "    \n",
    "    \n",
    "    if work.tags == \"none\":\n",
    "        test_none[\"tags\"] +=1 \n",
    "    \n",
    "    \n",
    "    if work.text_html == \"none\":\n",
    "        test_none[\"text_html\"] +=1 \n",
    "        \n",
    "    \n",
    "    if work.title == \"none\":\n",
    "        test_none[\"title\"] +=1 \n",
    "        \n",
    "    if work.references == \"none\":\n",
    "        test_none[\"references\"] +=1\n",
    "    \n",
    "    if work.pages_displayed == \"none\":\n",
    "        test_none[\"pages_displayed\"] +=1\n",
    "        \n",
    "    \n",
    "    \n",
    "    "
   ]
  },
  {
   "cell_type": "code",
   "execution_count": 11,
   "id": "fc7a9f8d",
   "metadata": {},
   "outputs": [
    {
     "data": {
      "text/plain": [
       "{'author': 629,\n",
       " 'category': 2,\n",
       " 'grade': 6807,\n",
       " 'institution': 8529,\n",
       " 'isbn': 33,\n",
       " 'link': 0,\n",
       " 'pages': 7,\n",
       " 'price': 16,\n",
       " 'subject': 2,\n",
       " 'tags': 81,\n",
       " 'text_html': 813,\n",
       " 'title': 0,\n",
       " 'references': 9450,\n",
       " 'pages_displayed': 307}"
      ]
     },
     "execution_count": 11,
     "metadata": {},
     "output_type": "execute_result"
    }
   ],
   "source": [
    "test_none"
   ]
  },
  {
   "cell_type": "code",
   "execution_count": 49,
   "id": "60e1c28e",
   "metadata": {},
   "outputs": [],
   "source": [
    "\"\"\"check the types of work in the germanistik corpus\"\"\"\n",
    "works=load_obj(\"germanistik\")\n",
    "types={}\n",
    "for work in works:\n",
    "    cat = work.category.split(\",\")[0]\n",
    "    if cat not in types:\n",
    "        types[cat] = [1,0]\n",
    "    else:\n",
    "        types[cat] = [types[cat][0] +1,types[cat][1]]\n",
    "    if work.references != \"none\":\n",
    "        types[cat] = [types[cat][0],types[cat][1]+1]"
   ]
  },
  {
   "cell_type": "code",
   "execution_count": 50,
   "id": "a248e703",
   "metadata": {},
   "outputs": [],
   "source": [
    "types = dict(sorted(types.items(), key=lambda item: item[1], reverse =True))"
   ]
  },
  {
   "cell_type": "code",
   "execution_count": 51,
   "id": "2eaf6ea8",
   "metadata": {},
   "outputs": [
    {
     "data": {
      "text/plain": [
       "{'Seminararbeit': [305, 231],\n",
       " 'Hausarbeit': [243, 155],\n",
       " 'Hausarbeit (Hauptseminar)': [161, 114],\n",
       " 'Klassiker': [90, 0],\n",
       " 'Ausarbeitung': [50, 20],\n",
       " 'Essay': [30, 7],\n",
       " 'Referat / Aufsatz (Schule)': [23, 6],\n",
       " 'Referat (Ausarbeitung)': [18, 12],\n",
       " 'Magisterarbeit': [17, 10],\n",
       " 'Facharbeit (Schule)': [10, 6],\n",
       " 'Bachelorarbeit': [10, 4],\n",
       " 'Referat (Handout)': [9, 6],\n",
       " 'Skript': [9, 3],\n",
       " 'Examensarbeit': [8, 6],\n",
       " 'Bachelor Thesis': [6, 5],\n",
       " \"Master's Thesis\": [4, 2],\n",
       " 'Vorlesungsmitschrift': [4, 0],\n",
       " 'Diplomarbeit': [3, 3],\n",
       " 'Akademische Arbeit': [3, 2],\n",
       " 'Forschungsarbeit': [3, 2],\n",
       " 'Rezension / Literaturbericht': [3, 1],\n",
       " 'Wissenschaftlicher Aufsatz': [3, 0],\n",
       " 'Masterarbeit': [2, 1],\n",
       " 'Zwischenprüfungsarbeit': [2, 1],\n",
       " 'Projektarbeit': [1, 1],\n",
       " 'Doktorarbeit / Dissertation': [1, 1],\n",
       " 'Lizentiatsarbeit': [1, 1],\n",
       " 'Presentation slides': [1, 1],\n",
       " 'Textbook': [1, 1],\n",
       " 'Term Paper': [1, 1],\n",
       " 'Technischer Bericht': [1, 0],\n",
       " 'Fachbuch': [1, 0],\n",
       " 'Vordiplomarbeit': [1, 0],\n",
       " 'Studienarbeit': [1, 0],\n",
       " 'Thesis (M.A.)': [1, 0],\n",
       " 'Research Paper (postgraduate)': [1, 0]}"
      ]
     },
     "execution_count": 51,
     "metadata": {},
     "output_type": "execute_result"
    }
   ],
   "source": [
    "types"
   ]
  },
  {
   "cell_type": "code",
   "execution_count": null,
   "id": "46708575",
   "metadata": {},
   "outputs": [],
   "source": []
  }
 ],
 "metadata": {
  "kernelspec": {
   "display_name": "Python [conda env:bachelor] *",
   "language": "python",
   "name": "conda-env-bachelor-py"
  },
  "language_info": {
   "codemirror_mode": {
    "name": "ipython",
    "version": 3
   },
   "file_extension": ".py",
   "mimetype": "text/x-python",
   "name": "python",
   "nbconvert_exporter": "python",
   "pygments_lexer": "ipython3",
   "version": "3.9.12"
  }
 },
 "nbformat": 4,
 "nbformat_minor": 5
}
