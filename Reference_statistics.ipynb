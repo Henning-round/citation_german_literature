{
 "cells": [
  {
   "cell_type": "code",
   "execution_count": 1,
   "id": "546f3969",
   "metadata": {},
   "outputs": [],
   "source": [
    "from manager import load_obj\n",
    "import os\n",
    "import re\n",
    "import string\n",
    "from collections import Counter\n",
    "from pprint import pprint\n",
    "from tqdm.notebook import tqdm\n",
    "from itertools import combinations"
   ]
  },
  {
   "cell_type": "code",
   "execution_count": 2,
   "id": "477768ae",
   "metadata": {},
   "outputs": [],
   "source": [
    "works = load_obj(\"germanistik\")"
   ]
  },
  {
   "cell_type": "code",
   "execution_count": 3,
   "id": "d3818d0d",
   "metadata": {},
   "outputs": [],
   "source": [
    "index_work = {}\n",
    "for index,work in enumerate(works):\n",
    "    index_work[work.link.split(\"/\")[-1]] = index"
   ]
  },
  {
   "cell_type": "code",
   "execution_count": 4,
   "id": "be183db8",
   "metadata": {},
   "outputs": [],
   "source": [
    "def find_tag(text, tag):\n",
    "    \n",
    "    reg_start = re.compile(fr\"(\\<{tag}\\>)\")\n",
    "    reg_end =  re.compile(fr\"(\\<\\/{tag}\\>)\")\n",
    "    start = [m.start() for m in re.finditer(reg_start, text)]\n",
    "    end = [m.start() for m in re.finditer(reg_end, text)]\n",
    "    \n",
    "    aut=\"\"\n",
    "    if start and end:\n",
    "        for s,e in zip(start,end):\n",
    "            aut += re.sub(r\"<[^>]*>\", \"\", text[s:e] + \"  \")\n",
    "    else:\n",
    "        aut = \"\"\n",
    "    return aut"
   ]
  },
  {
   "cell_type": "code",
   "execution_count": 5,
   "id": "cdd42db7",
   "metadata": {},
   "outputs": [],
   "source": [
    "def create_ref_dic(text, count):\n",
    "    references ={\"autoren\": []}\n",
    "    refs = text.split(\"</sequence>\")[:-1]\n",
    "    \n",
    "    for ref in refs:\n",
    "        if (len(find_tag(ref, \"author\")) != 0):\n",
    "            count +=1\n",
    "        \n",
    "        \n",
    "        text = find_tag(ref, \"author\")\n",
    "        authors = re.split(\"  |\\/\", text)\n",
    "        authors = [x for x in authors if len(x) > 0]\n",
    "        if len(authors) != 0:\n",
    "            references[\"autoren\"] += authors\n",
    "    return (references, count)"
   ]
  },
  {
   "cell_type": "code",
   "execution_count": null,
   "id": "a8c70e51",
   "metadata": {},
   "outputs": [],
   "source": []
  },
  {
   "cell_type": "code",
   "execution_count": 6,
   "id": "875243d8",
   "metadata": {
    "scrolled": false
   },
   "outputs": [],
   "source": [
    "path = r\"C:\\Users\\Tim\\Desktop\\bachelorarbeit\\Parsed_References\"\n",
    "c = 0\n",
    "num = 0\n",
    "for filename in os.listdir(r\"C:\\Users\\Tim\\Desktop\\bachelorarbeit\\Parsed_References\"):\n",
    "    with open(os.path.join(path, filename), 'r', encoding = \"utf-8\") as f: # open in readonly mode\n",
    "        name = os.path.basename(f.name).split(\".\")[0]\n",
    "        num += 1\n",
    "        if index_work.get(name) != None:\n",
    "            works[index_work.get(name)].ref_authors, c  = create_ref_dic(f.read(), c)\n",
    "        "
   ]
  },
  {
   "cell_type": "code",
   "execution_count": 7,
   "id": "41a48858",
   "metadata": {},
   "outputs": [
    {
     "name": "stdout",
     "output_type": "stream",
     "text": [
      "Anzahl der Referenzen: 8218\n",
      "Anzahl der Arbeiten: 1034\n"
     ]
    }
   ],
   "source": [
    "print(\"Anzahl der Referenzen: \" + str(c))\n",
    "print(\"Anzahl der Arbeiten: \" + str(num))"
   ]
  },
  {
   "cell_type": "markdown",
   "id": "4735fc13",
   "metadata": {},
   "source": [
    "# Statistics of author occurrences"
   ]
  },
  {
   "cell_type": "code",
   "execution_count": 8,
   "id": "adf9c771",
   "metadata": {},
   "outputs": [],
   "source": [
    "def compare_names(author, dic):\n",
    "    new_dic = dic\n",
    "    namelist = list(new_dic.keys())\n",
    "    count = 0\n",
    "    appended = False\n",
    "    if len(namelist) != 0:\n",
    "        \n",
    "        for nam in namelist:\n",
    "            if is_author(author, nam):\n",
    "                count = 0\n",
    "                for entry in new_dic[nam]:\n",
    "                    if is_author(author, entry):\n",
    "                        count += 1\n",
    "                \n",
    "                if count/len(new_dic[nam]) >= 0.7:\n",
    "                    new_dic[nam] += [author]\n",
    "                    return new_dic\n",
    "                else:\n",
    "                    new_dic[nam] = [author]\n",
    "                    return new_dic\n",
    "            else:\n",
    "                continue\n",
    "        new_dic[author]=[author]\n",
    "        return new_dic\n",
    "                \n",
    "    else:\n",
    "        new_dic[author] = [author]\n",
    "        return new_dic"
   ]
  },
  {
   "cell_type": "code",
   "execution_count": 9,
   "id": "c6f2df02",
   "metadata": {},
   "outputs": [],
   "source": [
    "def is_author(author, compare):\n",
    "    name = author.split(\" \")\n",
    "    name = list(filter(None, name))\n",
    "    name_compare = compare.split(\" \")\n",
    "    name_compare = list(filter(None, name_compare))\n",
    "    flag = False\n",
    "    full_name_flag = False\n",
    "    if len(name) >= len(name_compare):\n",
    "        prob = len(name_compare)\n",
    "        tmp = name_compare\n",
    "        name_compare = name\n",
    "        name = tmp\n",
    "    else:\n",
    "        prob = len(name)\n",
    "    new_prob = 0   \n",
    "\n",
    "    beginners_n = [x[0] for x in name]\n",
    "    beginners_nc = [x[0] for x in name_compare]\n",
    "    \n",
    "    \n",
    "    \n",
    "    for n in beginners_n:\n",
    "        if n in beginners_nc:\n",
    "            beginners_nc.remove(n)\n",
    "        else:\n",
    "            return False\n",
    "            \n",
    "    for i, n in enumerate(name):\n",
    "            \n",
    "            for j,nc in enumerate(name_compare):\n",
    "                if (i==j) and (nc == n):\n",
    "                    new_prob +=1\n",
    "            \n",
    "            if new_prob/prob > 0.5:\n",
    "                return True\n",
    "            \n",
    "            elif n[0] not in (x[0] for x in name_compare):\n",
    "                flag = False\n",
    "                break\n",
    "\n",
    "                \n",
    "            elif (len(n) > 1) and n in name_compare:\n",
    "                flag = True\n",
    "                full_name_flag = True\n",
    "    \n",
    "            else:\n",
    "              \n",
    "                for nc in name_compare:\n",
    "                    if (n[0] == nc[0]) and ((len(nc) == 1) or (len(n) == 1)):\n",
    "                        flag = True    \n",
    "                        \n",
    "                    elif(n[0] == nc[0]):\n",
    "                        control = min(len(n), len(nc))\n",
    "                        if n[:control]!= nc[:control]:\n",
    "                            return False\n",
    "                    \n",
    "                    \n",
    "    if flag and full_name_flag:\n",
    "        return True\n",
    "    else:\n",
    "        return False"
   ]
  },
  {
   "cell_type": "code",
   "execution_count": 10,
   "id": "b66a6702",
   "metadata": {
    "scrolled": false
   },
   "outputs": [
    {
     "data": {
      "application/vnd.jupyter.widget-view+json": {
       "model_id": "8148e67f6ba847d0a5936d94b1812ba0",
       "version_major": 2,
       "version_minor": 0
      },
      "text/plain": [
       "  0%|          | 0/1028 [00:00<?, ?it/s]"
      ]
     },
     "metadata": {},
     "output_type": "display_data"
    },
    {
     "name": "stdout",
     "output_type": "stream",
     "text": [
      "Absolute Anzahl von Autorenerwähnung: 7939\n"
     ]
    },
    {
     "data": {
      "application/vnd.jupyter.widget-view+json": {
       "model_id": "fc1f83e75340408091ac747277d37030",
       "version_major": 2,
       "version_minor": 0
      },
      "text/plain": [
       "  0%|          | 0/6921 [00:00<?, ?it/s]"
      ]
     },
     "metadata": {},
     "output_type": "display_data"
    },
    {
     "name": "stdout",
     "output_type": "stream",
     "text": [
      "Anzahl unterschiedlicher Autoren: 5218\n"
     ]
    }
   ],
   "source": [
    "\n",
    "authors = []\n",
    "ref_per_author = {}\n",
    "appended = False\n",
    "ref_len = 0\n",
    "### per document only one author\n",
    "for work in tqdm(works):\n",
    "    if work.references != \"none\" and work.link.split(\"/\")[-1] != \"283936\":\n",
    "       \n",
    "\n",
    "        dics = {}\n",
    "        ## if author longer than 6 skip name!!\n",
    "       \n",
    "        auts = [x.lower() for x in work.ref_authors[\"autoren\"]]\n",
    "       \n",
    "        auts = [x.translate(str.maketrans('', '', string.punctuation)) for x in auts]\n",
    "        \n",
    "        \n",
    "        for aut in auts:\n",
    "            if len(aut.split(\" \")) >= 5 or aut == \"\" or len(aut.split(\" \")) == 1:\n",
    "                continue\n",
    "                \n",
    "            dics = compare_names(aut, dics)\n",
    "            ref_len +=1\n",
    "        \n",
    "        for key, value in dics.items():\n",
    "            namlist = ref_per_author.keys()\n",
    "            for nam in namlist:\n",
    "                if is_author(key, nam):\n",
    "                    ref_per_author[nam].append(len(value))\n",
    "                    appended = True\n",
    "                    break\n",
    "            if not appended:\n",
    "                ref_per_author[key] = [len(value)]\n",
    "            appended = False\n",
    "        \n",
    "        authors += list(dics.keys())\n",
    "\n",
    "print(\"Absolute Anzahl von Autorenerwähnung: \" + str(ref_len))\n",
    "\n",
    "final_dic = {}\n",
    "for aut in tqdm(authors):\n",
    "    final_dic = compare_names(aut, final_dic) \n",
    "\n",
    "print(\"Anzahl unterschiedlicher Autoren: \" + str(len(final_dic.keys())))  \n"
   ]
  },
  {
   "cell_type": "code",
   "execution_count": 11,
   "id": "3e1ee26d",
   "metadata": {},
   "outputs": [],
   "source": [
    "result = dict(sorted(final_dic.items(), key=lambda item: len(item[1]), reverse = True))"
   ]
  },
  {
   "cell_type": "code",
   "execution_count": 12,
   "id": "349cc0d1",
   "metadata": {},
   "outputs": [],
   "source": [
    "final_result = {}\n",
    "for key, value in result.items():\n",
    "    final_result[key] = len(value)"
   ]
  },
  {
   "cell_type": "code",
   "execution_count": 13,
   "id": "8c762bdf",
   "metadata": {},
   "outputs": [],
   "source": [
    "\n",
    "final_result[\"hartmann von aue\"] = final_result.pop(\"hartmann von\")\n",
    "final_result['mann thomas'] = final_result.pop(\"mann thomas „der\")\n",
    "final_result = dict(sorted(final_result.items(), key=lambda item: item[1], reverse = True))"
   ]
  },
  {
   "cell_type": "code",
   "execution_count": 15,
   "id": "d7271628",
   "metadata": {},
   "outputs": [
    {
     "name": "stdout",
     "output_type": "stream",
     "text": [
      "Anzahl der Autor:innen die nur einmal erwähnt werden: 4395\n"
     ]
    }
   ],
   "source": [
    "c=0\n",
    "for k,v in final_result.items():\n",
    "    if v ==1:\n",
    "        c+=1\n",
    "print(\"Anzahl der Autor:innen die nur einmal erwähnt werden: \" +  str(c))"
   ]
  },
  {
   "cell_type": "markdown",
   "id": "20cafac8",
   "metadata": {},
   "source": [
    "# Zipf Distribution of author occurrences\n"
   ]
  },
  {
   "cell_type": "code",
   "execution_count": 17,
   "id": "d917573b",
   "metadata": {},
   "outputs": [
    {
     "data": {
      "text/plain": [
       "<matplotlib.legend.Legend at 0x1b2c57c44c0>"
      ]
     },
     "execution_count": 17,
     "metadata": {},
     "output_type": "execute_result"
    },
    {
     "data": {
      "image/png": "[encoded data removed]",
      "text/plain": [
       "<Figure size 432x288 with 1 Axes>"
      ]
     },
     "metadata": {
      "needs_background": "light"
     },
     "output_type": "display_data"
    }
   ],
   "source": [
    "import matplotlib.pyplot as plt\n",
    "x = len(final_result)\n",
    "y = sorted(final_result.values(), reverse=True)\n",
    "plt.scatter(range(x), y,label=\"Author mentions\")\n",
    "plt.yscale('log')\n",
    "plt.xscale('log')\n",
    "plt.legend()"
   ]
  },
  {
   "cell_type": "code",
   "execution_count": null,
   "id": "013be25c",
   "metadata": {},
   "outputs": [],
   "source": []
  }
 ],
 "metadata": {
  "kernelspec": {
   "display_name": "Python [conda env:bachelor] *",
   "language": "python",
   "name": "conda-env-bachelor-py"
  },
  "language_info": {
   "codemirror_mode": {
    "name": "ipython",
    "version": 3
   },
   "file_extension": ".py",
   "mimetype": "text/x-python",
   "name": "python",
   "nbconvert_exporter": "python",
   "pygments_lexer": "ipython3",
   "version": "3.9.12"
  }
 },
 "nbformat": 4,
 "nbformat_minor": 5
}
